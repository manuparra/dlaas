{
 "cells": [
  {
   "cell_type": "markdown",
   "id": "24ce4e33-dcd2-471e-be5f-7de91d67ba8e",
   "metadata": {},
   "source": [
    "# DataLake access example"
   ]
  },
  {
   "cell_type": "code",
   "execution_count": null,
   "id": "88893ea5-d65e-45cb-8014-29c8f9d43a55",
   "metadata": {},
   "outputs": [],
   "source": []
  }
 ],
 "metadata": {
  "kernelspec": {
   "display_name": "Python 3",
   "language": "python",
   "name": "python3"
  },
  "language_info": {
   "codemirror_mode": {
    "name": "ipython",
    "version": 3
   },
   "file_extension": ".py",
   "mimetype": "text/x-python",
   "name": "python",
   "nbconvert_exporter": "python",
   "pygments_lexer": "ipython3",
   "version": "3.8.10"
  }
 },
 "nbformat": 4,
 "nbformat_minor": 5
}
